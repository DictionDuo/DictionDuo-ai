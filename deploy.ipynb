{
 "cells": [
  {
   "cell_type": "code",
   "execution_count": 12,
   "id": "eb28c201-f490-4288-8976-81ba6e0d1720",
   "metadata": {},
   "outputs": [
    {
     "name": "stdout",
     "output_type": "stream",
     "text": [
      "sagemaker.config INFO - Not applying SDK defaults from location: /etc/xdg/sagemaker/config.yaml\n",
      "sagemaker.config INFO - Not applying SDK defaults from location: /home/ec2-user/.config/sagemaker/config.yaml\n"
     ]
    }
   ],
   "source": [
    "import sagemaker\n",
    "from sagemaker.pytorch import PyTorchModel\n",
    "from sagemaker import get_execution_role"
   ]
  },
  {
   "cell_type": "code",
   "execution_count": 13,
   "id": "0f665acd-f5e3-485f-8a1e-76859a8fb47c",
   "metadata": {},
   "outputs": [],
   "source": [
    "sagemaker_session = sagemaker.Session()\n",
    "role = get_execution_role()"
   ]
  },
  {
   "cell_type": "code",
   "execution_count": 14,
   "id": "240041df-4f95-4956-bf30-feb0232d4c61",
   "metadata": {},
   "outputs": [],
   "source": [
    "s3_model_uri = \"s3://dd-conformer-bucket/model/model.tar.gz\""
   ]
  },
  {
   "cell_type": "code",
   "execution_count": 17,
   "id": "357dda2b-fa46-48ec-9e30-5d7145a770cd",
   "metadata": {},
   "outputs": [],
   "source": [
    "# 모델 객체 생성\n",
    "model = PyTorchModel(\n",
    "    entry_point=\"inference.py\",                  # entry point script\n",
    "    role=role,\n",
    "    model_data=s3_model_uri,\n",
    "    framework_version=\"2.2.0\",                   # PyTorch 버전\n",
    "    py_version=\"py310\",                          # Python 버전\n",
    "    source_dir=\".\"\n",
    ")"
   ]
  },
  {
   "cell_type": "code",
   "execution_count": 18,
   "id": "b7c15523-54fc-4b4b-a2e5-b8e0f800cb5a",
   "metadata": {},
   "outputs": [],
   "source": [
    "# 엔드포인트 이름 설정\n",
    "endpoint_name = \"dictionduo-endpoint\""
   ]
  },
  {
   "cell_type": "code",
   "execution_count": 19,
   "id": "f04c2699-e592-4cbf-b932-38f2d2febddb",
   "metadata": {},
   "outputs": [
    {
     "name": "stdout",
     "output_type": "stream",
     "text": [
      "------!"
     ]
    }
   ],
   "source": [
    "# 배포\n",
    "predictor = model.deploy(\n",
    "    instance_type=\"ml.m5.large\",\n",
    "    initial_instance_count=1,\n",
    "    endpoint_name=endpoint_name\n",
    ")"
   ]
  }
 ],
 "metadata": {
  "kernelspec": {
   "display_name": "conda_pytorch_p310",
   "language": "python",
   "name": "conda_pytorch_p310"
  },
  "language_info": {
   "codemirror_mode": {
    "name": "ipython",
    "version": 3
   },
   "file_extension": ".py",
   "mimetype": "text/x-python",
   "name": "python",
   "nbconvert_exporter": "python",
   "pygments_lexer": "ipython3",
   "version": "3.10.14"
  }
 },
 "nbformat": 4,
 "nbformat_minor": 5
}
